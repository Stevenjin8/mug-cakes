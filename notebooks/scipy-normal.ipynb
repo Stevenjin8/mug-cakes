{
 "cells": [
  {
   "cell_type": "code",
   "execution_count": 2,
   "id": "bd4e9ae7-d9b8-49ac-9354-6a0b65d64aec",
   "metadata": {},
   "outputs": [],
   "source": [
    "from scipy.stats import multivariate_normal as mvn\n",
    "import numpy as np\n",
    "from tqdm import tqdm"
   ]
  },
  {
   "cell_type": "code",
   "execution_count": 224,
   "id": "3bf92f2b-81b7-4372-b13f-cfd42d4f6d17",
   "metadata": {},
   "outputs": [],
   "source": [
    "NN = 100 ** 2\n",
    "N = 8\n",
    "y = np.ones(N)\n",
    "covs = []\n",
    "for _ in range(NN):\n",
    "    L = np.random.rand(N, N)\n",
    "    L = L.T @ L\n",
    "    L = L + np.eye(N)\n",
    "    covs.append(L)\n",
    "covs = np.array(covs)"
   ]
  },
  {
   "cell_type": "code",
   "execution_count": 247,
   "id": "7338c2cd-dea1-4355-b1aa-8a32d3027c7f",
   "metadata": {},
   "outputs": [],
   "source": [
    "def mvn_multi_log_unnormalized_pdf(y, mus, covs):\n",
    "    N = len(y)\n",
    "    covs_inv = np.linalg.inv(covs)\n",
    "    ret = np.einsum(\"i,lij,j->l\", (-y - mus), covs_inv, (y- mus))\n",
    "    ret -= np.linalg.slogdet(covs).logabsdet\n",
    "    # ret -= N * np.log(2 * np.pi)\n",
    "    # return 0.5 * ret\n",
    "    return ret"
   ]
  },
  {
   "cell_type": "code",
   "execution_count": 248,
   "id": "f34e6cfc-fd68-4905-906e-e7583cd1d6df",
   "metadata": {},
   "outputs": [
    {
     "name": "stdout",
     "output_type": "stream",
     "text": [
      "29.6 ms ± 1.48 ms per loop (mean ± std. dev. of 7 runs, 10 loops each)\n"
     ]
    }
   ],
   "source": [
    "%%timeit\n",
    "(mvn_multi_log_pdf(y, 0, covs));"
   ]
  },
  {
   "cell_type": "code",
   "execution_count": 207,
   "id": "9995c5a3-f6a9-4d0e-b642-c083baf2b3a8",
   "metadata": {},
   "outputs": [
    {
     "name": "stdout",
     "output_type": "stream",
     "text": [
      "CPU times: user 4min 18s, sys: 28.5 s, total: 4min 47s\n",
      "Wall time: 2min 24s\n"
     ]
    }
   ],
   "source": [
    "%%time\n",
    "for i in range(NN):\n",
    "    (mvn.logpdf(y, cov=covs[i]))"
   ]
  },
  {
   "cell_type": "code",
   "execution_count": 191,
   "id": "cd802334-b6b2-4600-aa1f-1176a7b436b5",
   "metadata": {},
   "outputs": [
    {
     "data": {
      "text/plain": [
       "array([[1, 1],\n",
       "       [1, 2]])"
      ]
     },
     "execution_count": 191,
     "metadata": {},
     "output_type": "execute_result"
    }
   ],
   "source": [
    "cov[0]"
   ]
  },
  {
   "cell_type": "code",
   "execution_count": 1,
   "id": "e41f1205-44b3-4486-bff0-1564dfa2db0e",
   "metadata": {},
   "outputs": [
    {
     "ename": "NameError",
     "evalue": "name 'y' is not defined",
     "output_type": "error",
     "traceback": [
      "\u001b[0;31m---------------------------------------------------------------------------\u001b[0m",
      "\u001b[0;31mNameError\u001b[0m                                 Traceback (most recent call last)",
      "Cell \u001b[0;32mIn[1], line 2\u001b[0m\n\u001b[1;32m      1\u001b[0m \u001b[38;5;66;03m# ret = -0.5 * np.einsum(\"i,ij,j->\", (y - 0), np.linalg.inv(cov[i]), (y- 0))\u001b[39;00m\n\u001b[0;32m----> 2\u001b[0m ret \u001b[38;5;241m=\u001b[39m \u001b[38;5;241m-\u001b[39m\u001b[38;5;241m0.5\u001b[39m \u001b[38;5;241m*\u001b[39m \u001b[43my\u001b[49m\u001b[38;5;241m.\u001b[39mT \u001b[38;5;241m@\u001b[39m np\u001b[38;5;241m.\u001b[39mlinalg\u001b[38;5;241m.\u001b[39minv(cov[i]) \u001b[38;5;241m@\u001b[39m y\n\u001b[1;32m      3\u001b[0m ret \u001b[38;5;241m-\u001b[39m\u001b[38;5;241m=\u001b[39m \u001b[38;5;241m0.5\u001b[39m \u001b[38;5;241m*\u001b[39m np\u001b[38;5;241m.\u001b[39mlog(np\u001b[38;5;241m.\u001b[39mlinalg\u001b[38;5;241m.\u001b[39mdet(cov[i]))\n\u001b[1;32m      4\u001b[0m ret \u001b[38;5;241m-\u001b[39m\u001b[38;5;241m=\u001b[39m \u001b[38;5;241m0.5\u001b[39m \u001b[38;5;241m*\u001b[39m \u001b[38;5;28mlen\u001b[39m(y) \u001b[38;5;241m*\u001b[39m np\u001b[38;5;241m.\u001b[39mlog(\u001b[38;5;241m2\u001b[39m \u001b[38;5;241m*\u001b[39m np\u001b[38;5;241m.\u001b[39mpi)\n",
      "\u001b[0;31mNameError\u001b[0m: name 'y' is not defined"
     ]
    }
   ],
   "source": [
    "# ret = -0.5 * np.einsum(\"i,ij,j->\", (y - 0), np.linalg.inv(cov[i]), (y- 0))\n",
    "ret = -0.5 * y.T @ np.linalg.inv(cov[i]) @ y\n",
    "ret -= 0.5 * np.log(np.linalg.det(cov[i]))\n",
    "ret -= 0.5 * len(y) * np.log(2 * np.pi)\n",
    "ret"
   ]
  },
  {
   "cell_type": "code",
   "execution_count": 177,
   "id": "51f02f2b-1531-49c5-988f-744c636e234c",
   "metadata": {},
   "outputs": [
    {
     "data": {
      "text/plain": [
       "1.0"
      ]
     },
     "execution_count": 177,
     "metadata": {},
     "output_type": "execute_result"
    }
   ],
   "source": [
    "np.log(np.e)"
   ]
  },
  {
   "cell_type": "code",
   "execution_count": 4,
   "id": "faaa1eb0-b53b-44f4-9dbb-f887db42ba32",
   "metadata": {},
   "outputs": [],
   "source": [
    "x = np.linspace(0, 1, 100)\n",
    "y = np.linspace(0, 1, 100)"
   ]
  },
  {
   "cell_type": "code",
   "execution_count": 5,
   "id": "9cb0bb91-5616-42f3-aa26-dbf2816e29f4",
   "metadata": {},
   "outputs": [],
   "source": [
    "XX, YY = np.meshgrid(x, y)"
   ]
  },
  {
   "cell_type": "code",
   "execution_count": 8,
   "id": "16fb46e8-42b7-4fc9-8991-628e5e4f9b96",
   "metadata": {},
   "outputs": [],
   "source": [
    "XX = XX.reshape(-1)\n",
    "YY = YY.reshape(-1)"
   ]
  },
  {
   "cell_type": "code",
   "execution_count": 9,
   "id": "a472de07-0539-426e-bde2-7938e8d381e1",
   "metadata": {},
   "outputs": [
    {
     "data": {
      "text/plain": [
       "array([0.        , 0.01010101, 0.02020202, ..., 0.97979798, 0.98989899,\n",
       "       1.        ])"
      ]
     },
     "execution_count": 9,
     "metadata": {},
     "output_type": "execute_result"
    }
   ],
   "source": [
    "XX"
   ]
  },
  {
   "cell_type": "code",
   "execution_count": 12,
   "id": "b94084cb-940f-4723-9256-24b26738b163",
   "metadata": {},
   "outputs": [
    {
     "data": {
      "text/plain": [
       "array([[0., 0., 0., ..., 1., 1., 1.]])"
      ]
     },
     "execution_count": 12,
     "metadata": {},
     "output_type": "execute_result"
    }
   ],
   "source": [
    "YY[None]"
   ]
  },
  {
   "cell_type": "code",
   "execution_count": 27,
   "id": "396c263f-508b-482d-aff5-2db0d2af6f30",
   "metadata": {},
   "outputs": [],
   "source": [
    "K = np.array([\n",
    "    [[1, 3], [3, 4]],\n",
    "    [[4, 1], [1, 2]],\n",
    "    [[5, 3], [3, 2]],\n",
    "])"
   ]
  },
  {
   "cell_type": "code",
   "execution_count": 28,
   "id": "b14b5a3e-ef2e-44b4-a868-3168a3dca8a1",
   "metadata": {},
   "outputs": [],
   "source": [
    "f = np.array([0,1,2])"
   ]
  },
  {
   "cell_type": "code",
   "execution_count": 46,
   "id": "d7263b76-48af-4ddf-a93e-289170c71619",
   "metadata": {},
   "outputs": [],
   "source": [
    "def rowpeat(A, M):\n",
    "    \"\"\"\n",
    "    Repeat a rows of A a total of M times.\n",
    "    \"\"\"\n",
    "    ret = np.empty((A.shape[0] * M, *A.shape[1:]), dtype=A.dtype)\n",
    "    for i in range(A.shape[0]):\n",
    "        ret[M * i : M * (i + 1)] = A[i]\n",
    "    return ret\n",
    "\n",
    "\n",
    "def full_cov(K, J, var_e, var_b):\n",
    "    \"\"\"\n",
    "    Get the covariance matrix of the biases and observations\n",
    "    \"\"\"\n",
    "    N = K.shape[-1]\n",
    "    N_K = K.shape[0]\n",
    "\n",
    "    Sigma = np.zeros((N * J + J + N, N * J + J + N))\n",
    "    Sigma[0 : J * N, 0 : J * N] = np.eye(J * N) * var_e\n",
    "    Sigma[J * N : J * N + J, J * N : J * N + J] = np.eye(J) * var_b\n",
    "    Sigma[-N:, -N:] = K\n",
    "    A = np.zeros((N * J + J, N * J + J + N))\n",
    "    A[: N * J + J, : N * J + J] = np.eye(N * J + J)\n",
    "\n",
    "    mix = np.zeros((N * J, J + N))\n",
    "    mix[:, :J] = np.vstack([np.eye(J) for _ in range(N)])\n",
    "    mix[:, J:] = rowpeat(np.eye(N), J)\n",
    "    A[: N * J, N * J :] = mix\n",
    "\n",
    "    return A @ Sigma @ A.T"
   ]
  },
  {
   "cell_type": "code",
   "execution_count": 41,
   "id": "6afea94d-4ce2-4092-b087-34702922db2f",
   "metadata": {},
   "outputs": [],
   "source": [
    "J = 3\n",
    "var_e = 2\n",
    "var_b = 3\n",
    "N = K.shape[-1]\n",
    "N_K = K.shape[0]"
   ]
  },
  {
   "cell_type": "code",
   "execution_count": 48,
   "id": "04de5fd2-ac8b-40ad-b54b-5b14ff357299",
   "metadata": {},
   "outputs": [
    {
     "data": {
      "text/plain": [
       "array([[[ 6.,  1.,  1.,  6.,  3.,  3.,  3.,  0.,  0.],\n",
       "        [ 1.,  6.,  1.,  3.,  6.,  3.,  0.,  3.,  0.],\n",
       "        [ 1.,  1.,  6.,  3.,  3.,  6.,  0.,  0.,  3.],\n",
       "        [ 6.,  3.,  3.,  9.,  4.,  4.,  3.,  0.,  0.],\n",
       "        [ 3.,  6.,  3.,  4.,  9.,  4.,  0.,  3.,  0.],\n",
       "        [ 3.,  3.,  6.,  4.,  4.,  9.,  0.,  0.,  3.],\n",
       "        [ 3.,  0.,  0.,  3.,  0.,  0.,  3.,  0.,  0.],\n",
       "        [ 0.,  3.,  0.,  0.,  3.,  0.,  0.,  3.,  0.],\n",
       "        [ 0.,  0.,  3.,  0.,  0.,  3.,  0.,  0.,  3.]],\n",
       "\n",
       "       [[ 9.,  4.,  4.,  4.,  1.,  1.,  3.,  0.,  0.],\n",
       "        [ 4.,  9.,  4.,  1.,  4.,  1.,  0.,  3.,  0.],\n",
       "        [ 4.,  4.,  9.,  1.,  1.,  4.,  0.,  0.,  3.],\n",
       "        [ 4.,  1.,  1.,  7.,  2.,  2.,  3.,  0.,  0.],\n",
       "        [ 1.,  4.,  1.,  2.,  7.,  2.,  0.,  3.,  0.],\n",
       "        [ 1.,  1.,  4.,  2.,  2.,  7.,  0.,  0.,  3.],\n",
       "        [ 3.,  0.,  0.,  3.,  0.,  0.,  3.,  0.,  0.],\n",
       "        [ 0.,  3.,  0.,  0.,  3.,  0.,  0.,  3.,  0.],\n",
       "        [ 0.,  0.,  3.,  0.,  0.,  3.,  0.,  0.,  3.]],\n",
       "\n",
       "       [[10.,  5.,  5.,  6.,  3.,  3.,  3.,  0.,  0.],\n",
       "        [ 5., 10.,  5.,  3.,  6.,  3.,  0.,  3.,  0.],\n",
       "        [ 5.,  5., 10.,  3.,  3.,  6.,  0.,  0.,  3.],\n",
       "        [ 6.,  3.,  3.,  7.,  2.,  2.,  3.,  0.,  0.],\n",
       "        [ 3.,  6.,  3.,  2.,  7.,  2.,  0.,  3.,  0.],\n",
       "        [ 3.,  3.,  6.,  2.,  2.,  7.,  0.,  0.,  3.],\n",
       "        [ 3.,  0.,  0.,  3.,  0.,  0.,  3.,  0.,  0.],\n",
       "        [ 0.,  3.,  0.,  0.,  3.,  0.,  0.,  3.,  0.],\n",
       "        [ 0.,  0.,  3.,  0.,  0.,  3.,  0.,  0.,  3.]]])"
      ]
     },
     "execution_count": 48,
     "metadata": {},
     "output_type": "execute_result"
    }
   ],
   "source": [
    "Sigma = np.zeros((N_K, N * J + J + N, N * J + J + N))\n",
    "Sigma[:, 0 : J * N, 0 : J * N] = np.eye(J * N) * var_e\n",
    "Sigma[:, J * N : J * N + J, J * N : J * N + J] = np.eye(J) * var_b\n",
    "Sigma[:, -N:, -N:] = K\n",
    "A = np.zeros((N * J + J, N * J + J + N))\n",
    "A[: N * J + J, : N * J + J] = np.eye(N * J + J)\n",
    "mix = np.zeros((N * J, J + N))\n",
    "mix[:, :J] = np.vstack([np.eye(J) for _ in range(N)])\n",
    "mix[:, J:] = rowpeat(np.eye(N), J)\n",
    "A[: N * J, N * J :] = mix\n",
    "\n",
    "A @ Sigma @ A.T"
   ]
  },
  {
   "cell_type": "code",
   "execution_count": 49,
   "id": "a20fcece-ba68-4eed-a146-bbdb641920b3",
   "metadata": {},
   "outputs": [
    {
     "data": {
      "text/plain": [
       "array([[6., 1., 1., 6., 3., 3., 3., 0., 0.],\n",
       "       [1., 6., 1., 3., 6., 3., 0., 3., 0.],\n",
       "       [1., 1., 6., 3., 3., 6., 0., 0., 3.],\n",
       "       [6., 3., 3., 9., 4., 4., 3., 0., 0.],\n",
       "       [3., 6., 3., 4., 9., 4., 0., 3., 0.],\n",
       "       [3., 3., 6., 4., 4., 9., 0., 0., 3.],\n",
       "       [3., 0., 0., 3., 0., 0., 3., 0., 0.],\n",
       "       [0., 3., 0., 0., 3., 0., 0., 3., 0.],\n",
       "       [0., 0., 3., 0., 0., 3., 0., 0., 3.]])"
      ]
     },
     "execution_count": 49,
     "metadata": {},
     "output_type": "execute_result"
    }
   ],
   "source": [
    "A @ Sigma[0] @ A.T"
   ]
  },
  {
   "cell_type": "code",
   "execution_count": 17,
   "id": "763b5697-7440-43d7-8f36-0fff977ab335",
   "metadata": {},
   "outputs": [],
   "source": [
    "c = np.array([1,2,3])"
   ]
  },
  {
   "cell_type": "code",
   "execution_count": 19,
   "id": "c5fd9e57-434b-41d1-b51c-6570ff7d4ea4",
   "metadata": {},
   "outputs": [
    {
     "data": {
      "text/plain": [
       "array([[1., 2., 3.],\n",
       "       [0., 0., 0.],\n",
       "       [0., 0., 0.]])"
      ]
     },
     "execution_count": 19,
     "metadata": {},
     "output_type": "execute_result"
    }
   ],
   "source": [
    "np.multiply.outer(np.eye(3), c)"
   ]
  },
  {
   "cell_type": "code",
   "execution_count": null,
   "id": "e6318bff-003f-4e8c-a1d7-5ae068a9a58e",
   "metadata": {},
   "outputs": [],
   "source": []
  }
 ],
 "metadata": {
  "kernelspec": {
   "display_name": "Python 3 (ipykernel)",
   "language": "python",
   "name": "python3"
  },
  "language_info": {
   "codemirror_mode": {
    "name": "ipython",
    "version": 3
   },
   "file_extension": ".py",
   "mimetype": "text/x-python",
   "name": "python",
   "nbconvert_exporter": "python",
   "pygments_lexer": "ipython3",
   "version": "3.10.6"
  }
 },
 "nbformat": 4,
 "nbformat_minor": 5
}
